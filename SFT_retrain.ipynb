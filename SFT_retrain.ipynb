{
 "cells": [
  {
   "cell_type": "code",
   "execution_count": 1,
   "id": "a495d7f8-212a-4ed2-ad26-0590a992e355",
   "metadata": {},
   "outputs": [],
   "source": [
    "import json\n",
    "import os\n",
    "import pandas as pd\n",
    "import pyarrow as pa\n",
    "import pyarrow.dataset as ds\n",
    "import torch\n",
    "import wandb\n",
    "\n",
    "from datasets import Dataset\n",
    "from peft import LoraConfig\n",
    "from trl import ModelConfig, SFTConfig, SFTTrainer\n",
    "from transformers import AutoModelForCausalLM, TrainingArguments\n",
    "\n",
    "MODEL_NAME = 'AnatoliiPotapov/T-lite-instruct-0.1'\n",
    "\n",
    "wandb.finish()\n",
    "os.environ['WANDB_DISABLED'] = 'true'\n",
    "\n",
    "device = torch.device('cuda' if torch.cuda.is_available() else 'cpu')"
   ]
  },
  {
   "cell_type": "code",
   "execution_count": 2,
   "id": "725856c1-82c5-469c-892f-95d2ed234b43",
   "metadata": {},
   "outputs": [],
   "source": [
    "texts = [\n",
    "    {\n",
    "        \"messages\": [\n",
    "            {\"role\": \"user\", \"content\": \"Каковы текущие котировки акций компании Apple?\"},\n",
    "            {\"role\": \"bot\", \"content\": \"Текущие котировки акций Apple составляют $173.21.\"},\n",
    "        ]\n",
    "    },\n",
    "    {\n",
    "        \"messages\": [\n",
    "            {\"role\": \"user\", \"content\": \"Какие экономические отчеты ожидаются на этой неделе?\"},\n",
    "            {\"role\": \"bot\", \"content\": \"На этой неделе ожидаются отчеты по безработице и ВВП США.\"},\n",
    "        ]\n",
    "    },\n",
    "]\n",
    "\n",
    "texts = [json.dumps(text) for text in texts]\n",
    "\n",
    "df = pd.DataFrame(\n",
    "    {\n",
    "        'text': texts,\n",
    "        'label': [0 for _ in range(len(texts))]\n",
    "    }\n",
    ")\n",
    "dataset = ds.dataset(pa.Table.from_pandas(df).to_batches())\n",
    "\n",
    "hg_dataset = Dataset(pa.Table.from_pandas(df))"
   ]
  },
  {
   "cell_type": "code",
   "execution_count": null,
   "id": "7f2640a3-638f-4791-aa12-c9205ab4ffc0",
   "metadata": {},
   "outputs": [],
   "source": [
    "model = AutoModelForCausalLM.from_pretrained(MODEL_NAME).to(device)"
   ]
  },
  {
   "cell_type": "code",
   "execution_count": null,
   "id": "fa42cb02-d15d-4b43-916c-33753f41109a",
   "metadata": {},
   "outputs": [],
   "source": [
    "# Задаем настройки модели и обучения \n",
    "# в конфигурацию модели передаем способ обучения flash_attention_2 - алгоритм,\n",
    "# позволяющий ускорить процесс глубокого обучения в части механизма внимания\n",
    "model_config = ModelConfig(\n",
    "    model_name_or_path=MODEL_NAME,\n",
    "    attn_implementation='flash_attention_2',\n",
    ")\n",
    "\n",
    "sft_config = TrainingArguments(\n",
    "    output_dir='test_trainer',\n",
    ")"
   ]
  },
  {
   "cell_type": "code",
   "execution_count": null,
   "id": "26a422f6-5344-4c7c-a860-a8e63490d05c",
   "metadata": {},
   "outputs": [],
   "source": [
    "# Настраиваем LoRA \n",
    "# (для предварительно обученной матрицы весов мы представляем её обновление двумя меньшими матрицами, \n",
    "# полученными путем низкоранговой аппроксимации)\n",
    "peft_config = LoraConfig(\n",
    "    r=16,\n",
    "    lora_alpha=32,\n",
    "    lora_dropout=0.05,\n",
    "    bias='none',\n",
    "    task_type='CAUSAL_LM',\n",
    ")"
   ]
  },
  {
   "cell_type": "code",
   "execution_count": null,
   "id": "1639ecd7-b75c-4848-9d45-2c9c9524312b",
   "metadata": {},
   "outputs": [],
   "source": [
    "# Готовим и запускаем основной процесс дообучения модели\n",
    "trainer = SFTTrainer(\n",
    "    model,\n",
    "    train_dataset=hg_dataset,\n",
    "    args=sft_config,\n",
    "    dataset_text_field='text',\n",
    "    packing=False,\n",
    "    peft_config=peft_config,\n",
    "    max_seq_length=256\n",
    ")\n",
    "\n",
    "trainer.train()"
   ]
  }
 ],
 "metadata": {
  "kernelspec": {
   "display_name": "Python 3 (ipykernel)",
   "language": "python",
   "name": "python3"
  },
  "language_info": {
   "codemirror_mode": {
    "name": "ipython",
    "version": 3
   },
   "file_extension": ".py",
   "mimetype": "text/x-python",
   "name": "python",
   "nbconvert_exporter": "python",
   "pygments_lexer": "ipython3",
   "version": "3.10.11"
  }
 },
 "nbformat": 4,
 "nbformat_minor": 5
}
